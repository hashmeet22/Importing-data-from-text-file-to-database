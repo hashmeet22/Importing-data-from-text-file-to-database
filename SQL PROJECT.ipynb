{
 "cells": [
  {
   "cell_type": "code",
   "execution_count": 40,
   "metadata": {},
   "outputs": [],
   "source": [
    "import sqlite3\n",
    "conn=sqlite3.connect('count.db')\n",
    "cur=conn.cursor()\n",
    "cur.execute(\"DROP TABLE IF EXISTS COUNT\")\n",
    "cur.execute(\"CREATE TABLE COUNT (NAME TEXT,GRADE INT)\")\n",
    "fh=open(\"count.txt\")\n",
    "for line in fh:\n",
    "    if line.startswith(\"From\"):\n",
    "        p=line.split()\n",
    "        first_name=p[1]\n",
    "        sur_name=p[2]\n",
    "        full_name=first_name+' '+sur_name\n",
    "        grade=p[3]\n",
    "        cur.execute(\"SELECT GRADE FROM COUNT WHERE NAME=?\",(full_name,))\n",
    "        row=cur.fetchone()\n",
    "        if grade=='A':\n",
    "            cur.execute(\"INSERT INTO COUNT VALUES (?,5)\",(full_name,))\n",
    "        elif grade=='B':\n",
    "             cur.execute(\"INSERT INTO COUNT VALUES (?,3)\",(full_name,))\n",
    "        elif grade=='C':\n",
    "             cur.execute(\"INSERT INTO COUNT VALUES (?,1)\",(full_name,))\n",
    "        else:        \n",
    "             cur.execute(\"UPDATE COUNT SET GRADE=GRADE+1 WHERE name=?\",(full_name))\n",
    "conn.commit()"
   ]
  },
  {
   "cell_type": "code",
   "execution_count": 49,
   "metadata": {},
   "outputs": [
    {
     "name": "stdout",
     "output_type": "stream",
     "text": [
      "[('Ronald Mayr:', 5), ('Bell Kassulke:', 3), ('Jacqueline Rupp:', 5), ('Alexander Zeller:', 1), ('Valentina Denk:', 1), ('Simon Loidl:', 3), ('Elias Jovanovic:', 3), ('Stefanie Weninger:', 5), ('Fabian Peer:', 1), ('Hakim Botros:', 3), ('Emilie Lorentsen:', 3), ('Herman Karlsen:', 1), ('Nathalie Delacruz:', 1), ('Casey Hartman:', 1), ('Lily Walker:', 5), ('Gerard Wang:', 1), ('Tony Mcdowell:', 1), ('Jake Wood:', 3), ('Fatemeh Akhtar:', 3), ('Kim Weston:', 3), ('Nicholas Beatty:', 5), ('Kirsten Williams:', 1), ('Vaishali Surana:', 1), ('Coby Mccormack:', 1), ('Yasmin Dar:', 3), ('Romy Donnelly:', 5), ('Viswamitra Upandhye:', 3), ('Kendrick Hilpert:', 5), ('Killian Kaufman:', 3), ('Elwood Page:', 3)]\n"
     ]
    }
   ],
   "source": [
    "import sqlite3\n",
    "conn=sqlite3.connect('count.db')\n",
    "cur=conn.cursor()\n",
    "cur.execute(\"SELECT * FROM COUNT\")\n",
    "print(cur.fetchall())\n",
    "conn.commit()"
   ]
  },
  {
   "cell_type": "code",
   "execution_count": null,
   "metadata": {},
   "outputs": [],
   "source": []
  }
 ],
 "metadata": {
  "kernelspec": {
   "display_name": "Python 3",
   "language": "python",
   "name": "python3"
  },
  "language_info": {
   "codemirror_mode": {
    "name": "ipython",
    "version": 3
   },
   "file_extension": ".py",
   "mimetype": "text/x-python",
   "name": "python",
   "nbconvert_exporter": "python",
   "pygments_lexer": "ipython3",
   "version": "3.9.1"
  }
 },
 "nbformat": 4,
 "nbformat_minor": 4
}
